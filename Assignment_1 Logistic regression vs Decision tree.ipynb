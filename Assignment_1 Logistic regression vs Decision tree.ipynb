{
 "cells": [
  {
   "cell_type": "markdown",
   "id": "4e5ecfa5",
   "metadata": {},
   "source": [
    "# Logistic Regression VS Decision Tree\n",
    "Abstract: Predict whether income exceeds $50K/yr based on census data. Also known as \"Adult\" dataset.\n",
    "\n",
    "Aim: Compare performance of Logistic regression and decision tree model on target dataset.\n",
    "\n",
    "Dataset: Census Income Data Set - link: https://archive.ics.uci.edu/ml/datasets/Census+Income\n",
    "\n",
    "Conducted by Liu Qihan"
   ]
  },
  {
   "cell_type": "markdown",
   "id": "218e82bb",
   "metadata": {},
   "source": [
    "# Now Lets Start!✌"
   ]
  },
  {
   "cell_type": "code",
   "execution_count": 123,
   "id": "95a926e0",
   "metadata": {},
   "outputs": [],
   "source": [
    "import pandas as pd\n",
    "import numpy as np\n",
    "\n",
    "from sklearn.linear_model import LogisticRegression\n",
    "from sklearn.tree import DecisionTreeClassifier\n",
    "from sklearn.metrics import accuracy_score, precision_score, recall_score, f1_score\n",
    "import time"
   ]
  },
  {
   "cell_type": "markdown",
   "id": "ff66e52e",
   "metadata": {},
   "source": [
    "# Import dataset"
   ]
  },
  {
   "cell_type": "code",
   "execution_count": 124,
   "id": "9b55dcd0",
   "metadata": {},
   "outputs": [],
   "source": [
    "df = pd.read_csv('https://raw.githubusercontent.com/liuqihan338811/Decision-Tree/main/adult_data.csv')"
   ]
  },
  {
   "cell_type": "markdown",
   "id": "fc4e4e8c",
   "metadata": {},
   "source": [
    "# Exploratory Data Analysis"
   ]
  },
  {
   "cell_type": "code",
   "execution_count": 125,
   "id": "12403618",
   "metadata": {},
   "outputs": [
    {
     "data": {
      "text/html": [
       "<div>\n",
       "<style scoped>\n",
       "    .dataframe tbody tr th:only-of-type {\n",
       "        vertical-align: middle;\n",
       "    }\n",
       "\n",
       "    .dataframe tbody tr th {\n",
       "        vertical-align: top;\n",
       "    }\n",
       "\n",
       "    .dataframe thead th {\n",
       "        text-align: right;\n",
       "    }\n",
       "</style>\n",
       "<table border=\"1\" class=\"dataframe\">\n",
       "  <thead>\n",
       "    <tr style=\"text-align: right;\">\n",
       "      <th></th>\n",
       "      <th>age</th>\n",
       "      <th>workclass</th>\n",
       "      <th>fnlwgt</th>\n",
       "      <th>education</th>\n",
       "      <th>education_num</th>\n",
       "      <th>marital_status</th>\n",
       "      <th>occupation</th>\n",
       "      <th>relationship</th>\n",
       "      <th>race</th>\n",
       "      <th>sex</th>\n",
       "      <th>capital_gain</th>\n",
       "      <th>capital_loss</th>\n",
       "      <th>hours_per_week</th>\n",
       "      <th>native_country</th>\n",
       "      <th>Income</th>\n",
       "    </tr>\n",
       "  </thead>\n",
       "  <tbody>\n",
       "    <tr>\n",
       "      <th>0</th>\n",
       "      <td>39</td>\n",
       "      <td>State-gov</td>\n",
       "      <td>77516</td>\n",
       "      <td>Bachelors</td>\n",
       "      <td>13</td>\n",
       "      <td>Never-married</td>\n",
       "      <td>Adm-clerical</td>\n",
       "      <td>Not-in-family</td>\n",
       "      <td>White</td>\n",
       "      <td>Male</td>\n",
       "      <td>2174</td>\n",
       "      <td>0</td>\n",
       "      <td>40</td>\n",
       "      <td>United-States</td>\n",
       "      <td>&lt;=50K</td>\n",
       "    </tr>\n",
       "    <tr>\n",
       "      <th>1</th>\n",
       "      <td>50</td>\n",
       "      <td>Self-emp-not-inc</td>\n",
       "      <td>83311</td>\n",
       "      <td>Bachelors</td>\n",
       "      <td>13</td>\n",
       "      <td>Married-civ-spouse</td>\n",
       "      <td>Exec-managerial</td>\n",
       "      <td>Husband</td>\n",
       "      <td>White</td>\n",
       "      <td>Male</td>\n",
       "      <td>0</td>\n",
       "      <td>0</td>\n",
       "      <td>13</td>\n",
       "      <td>United-States</td>\n",
       "      <td>&lt;=50K</td>\n",
       "    </tr>\n",
       "    <tr>\n",
       "      <th>2</th>\n",
       "      <td>38</td>\n",
       "      <td>Private</td>\n",
       "      <td>215646</td>\n",
       "      <td>HS-grad</td>\n",
       "      <td>9</td>\n",
       "      <td>Divorced</td>\n",
       "      <td>Handlers-cleaners</td>\n",
       "      <td>Not-in-family</td>\n",
       "      <td>White</td>\n",
       "      <td>Male</td>\n",
       "      <td>0</td>\n",
       "      <td>0</td>\n",
       "      <td>40</td>\n",
       "      <td>United-States</td>\n",
       "      <td>&lt;=50K</td>\n",
       "    </tr>\n",
       "    <tr>\n",
       "      <th>3</th>\n",
       "      <td>53</td>\n",
       "      <td>Private</td>\n",
       "      <td>234721</td>\n",
       "      <td>11th</td>\n",
       "      <td>7</td>\n",
       "      <td>Married-civ-spouse</td>\n",
       "      <td>Handlers-cleaners</td>\n",
       "      <td>Husband</td>\n",
       "      <td>Black</td>\n",
       "      <td>Male</td>\n",
       "      <td>0</td>\n",
       "      <td>0</td>\n",
       "      <td>40</td>\n",
       "      <td>United-States</td>\n",
       "      <td>&lt;=50K</td>\n",
       "    </tr>\n",
       "    <tr>\n",
       "      <th>4</th>\n",
       "      <td>28</td>\n",
       "      <td>Private</td>\n",
       "      <td>338409</td>\n",
       "      <td>Bachelors</td>\n",
       "      <td>13</td>\n",
       "      <td>Married-civ-spouse</td>\n",
       "      <td>Prof-specialty</td>\n",
       "      <td>Wife</td>\n",
       "      <td>Black</td>\n",
       "      <td>Female</td>\n",
       "      <td>0</td>\n",
       "      <td>0</td>\n",
       "      <td>40</td>\n",
       "      <td>Cuba</td>\n",
       "      <td>&lt;=50K</td>\n",
       "    </tr>\n",
       "  </tbody>\n",
       "</table>\n",
       "</div>"
      ],
      "text/plain": [
       "   age          workclass  fnlwgt   education  education_num  \\\n",
       "0   39          State-gov   77516   Bachelors             13   \n",
       "1   50   Self-emp-not-inc   83311   Bachelors             13   \n",
       "2   38            Private  215646     HS-grad              9   \n",
       "3   53            Private  234721        11th              7   \n",
       "4   28            Private  338409   Bachelors             13   \n",
       "\n",
       "        marital_status          occupation    relationship    race      sex  \\\n",
       "0        Never-married        Adm-clerical   Not-in-family   White     Male   \n",
       "1   Married-civ-spouse     Exec-managerial         Husband   White     Male   \n",
       "2             Divorced   Handlers-cleaners   Not-in-family   White     Male   \n",
       "3   Married-civ-spouse   Handlers-cleaners         Husband   Black     Male   \n",
       "4   Married-civ-spouse      Prof-specialty            Wife   Black   Female   \n",
       "\n",
       "   capital_gain  capital_loss  hours_per_week  native_country Income  \n",
       "0          2174             0              40   United-States  <=50K  \n",
       "1             0             0              13   United-States  <=50K  \n",
       "2             0             0              40   United-States  <=50K  \n",
       "3             0             0              40   United-States  <=50K  \n",
       "4             0             0              40            Cuba  <=50K  "
      ]
     },
     "execution_count": 125,
     "metadata": {},
     "output_type": "execute_result"
    }
   ],
   "source": [
    "df.head()"
   ]
  },
  {
   "cell_type": "code",
   "execution_count": 126,
   "id": "abd4784a",
   "metadata": {
    "scrolled": true
   },
   "outputs": [
    {
     "data": {
      "text/html": [
       "<div>\n",
       "<style scoped>\n",
       "    .dataframe tbody tr th:only-of-type {\n",
       "        vertical-align: middle;\n",
       "    }\n",
       "\n",
       "    .dataframe tbody tr th {\n",
       "        vertical-align: top;\n",
       "    }\n",
       "\n",
       "    .dataframe thead th {\n",
       "        text-align: right;\n",
       "    }\n",
       "</style>\n",
       "<table border=\"1\" class=\"dataframe\">\n",
       "  <thead>\n",
       "    <tr style=\"text-align: right;\">\n",
       "      <th></th>\n",
       "      <th>count</th>\n",
       "      <th>mean</th>\n",
       "      <th>std</th>\n",
       "      <th>min</th>\n",
       "      <th>25%</th>\n",
       "      <th>50%</th>\n",
       "      <th>75%</th>\n",
       "      <th>max</th>\n",
       "    </tr>\n",
       "  </thead>\n",
       "  <tbody>\n",
       "    <tr>\n",
       "      <th>age</th>\n",
       "      <td>32561.0</td>\n",
       "      <td>38.581647</td>\n",
       "      <td>13.640433</td>\n",
       "      <td>17.0</td>\n",
       "      <td>28.0</td>\n",
       "      <td>37.0</td>\n",
       "      <td>48.0</td>\n",
       "      <td>90.0</td>\n",
       "    </tr>\n",
       "    <tr>\n",
       "      <th>fnlwgt</th>\n",
       "      <td>32561.0</td>\n",
       "      <td>189778.366512</td>\n",
       "      <td>105549.977697</td>\n",
       "      <td>12285.0</td>\n",
       "      <td>117827.0</td>\n",
       "      <td>178356.0</td>\n",
       "      <td>237051.0</td>\n",
       "      <td>1484705.0</td>\n",
       "    </tr>\n",
       "    <tr>\n",
       "      <th>education_num</th>\n",
       "      <td>32561.0</td>\n",
       "      <td>10.080679</td>\n",
       "      <td>2.572720</td>\n",
       "      <td>1.0</td>\n",
       "      <td>9.0</td>\n",
       "      <td>10.0</td>\n",
       "      <td>12.0</td>\n",
       "      <td>16.0</td>\n",
       "    </tr>\n",
       "    <tr>\n",
       "      <th>capital_gain</th>\n",
       "      <td>32561.0</td>\n",
       "      <td>1077.648844</td>\n",
       "      <td>7385.292085</td>\n",
       "      <td>0.0</td>\n",
       "      <td>0.0</td>\n",
       "      <td>0.0</td>\n",
       "      <td>0.0</td>\n",
       "      <td>99999.0</td>\n",
       "    </tr>\n",
       "    <tr>\n",
       "      <th>capital_loss</th>\n",
       "      <td>32561.0</td>\n",
       "      <td>87.303830</td>\n",
       "      <td>402.960219</td>\n",
       "      <td>0.0</td>\n",
       "      <td>0.0</td>\n",
       "      <td>0.0</td>\n",
       "      <td>0.0</td>\n",
       "      <td>4356.0</td>\n",
       "    </tr>\n",
       "    <tr>\n",
       "      <th>hours_per_week</th>\n",
       "      <td>32561.0</td>\n",
       "      <td>40.437456</td>\n",
       "      <td>12.347429</td>\n",
       "      <td>1.0</td>\n",
       "      <td>40.0</td>\n",
       "      <td>40.0</td>\n",
       "      <td>45.0</td>\n",
       "      <td>99.0</td>\n",
       "    </tr>\n",
       "  </tbody>\n",
       "</table>\n",
       "</div>"
      ],
      "text/plain": [
       "                  count           mean            std      min       25%  \\\n",
       "age             32561.0      38.581647      13.640433     17.0      28.0   \n",
       "fnlwgt          32561.0  189778.366512  105549.977697  12285.0  117827.0   \n",
       "education_num   32561.0      10.080679       2.572720      1.0       9.0   \n",
       "capital_gain    32561.0    1077.648844    7385.292085      0.0       0.0   \n",
       "capital_loss    32561.0      87.303830     402.960219      0.0       0.0   \n",
       "hours_per_week  32561.0      40.437456      12.347429      1.0      40.0   \n",
       "\n",
       "                     50%       75%        max  \n",
       "age                 37.0      48.0       90.0  \n",
       "fnlwgt          178356.0  237051.0  1484705.0  \n",
       "education_num       10.0      12.0       16.0  \n",
       "capital_gain         0.0       0.0    99999.0  \n",
       "capital_loss         0.0       0.0     4356.0  \n",
       "hours_per_week      40.0      45.0       99.0  "
      ]
     },
     "execution_count": 126,
     "metadata": {},
     "output_type": "execute_result"
    }
   ],
   "source": [
    "df.describe().T"
   ]
  },
  {
   "cell_type": "code",
   "execution_count": 127,
   "id": "4f7afbbc",
   "metadata": {
    "scrolled": true
   },
   "outputs": [
    {
     "name": "stdout",
     "output_type": "stream",
     "text": [
      "<class 'pandas.core.frame.DataFrame'>\n",
      "RangeIndex: 32561 entries, 0 to 32560\n",
      "Data columns (total 15 columns):\n",
      " #   Column          Non-Null Count  Dtype \n",
      "---  ------          --------------  ----- \n",
      " 0   age             32561 non-null  int64 \n",
      " 1   workclass       32561 non-null  object\n",
      " 2   fnlwgt          32561 non-null  int64 \n",
      " 3   education       32561 non-null  object\n",
      " 4   education_num   32561 non-null  int64 \n",
      " 5   marital_status  32561 non-null  object\n",
      " 6   occupation      32561 non-null  object\n",
      " 7   relationship    32561 non-null  object\n",
      " 8   race            32561 non-null  object\n",
      " 9   sex             32561 non-null  object\n",
      " 10  capital_gain    32561 non-null  int64 \n",
      " 11  capital_loss    32561 non-null  int64 \n",
      " 12  hours_per_week  32561 non-null  int64 \n",
      " 13  native_country  32561 non-null  object\n",
      " 14  Income          32561 non-null  object\n",
      "dtypes: int64(6), object(9)\n",
      "memory usage: 3.7+ MB\n"
     ]
    }
   ],
   "source": [
    "df.info()"
   ]
  },
  {
   "cell_type": "markdown",
   "id": "767dd8df",
   "metadata": {},
   "source": [
    "# Checking the presence of Missing Values"
   ]
  },
  {
   "cell_type": "code",
   "execution_count": 128,
   "id": "3bcddeae",
   "metadata": {
    "scrolled": true
   },
   "outputs": [
    {
     "data": {
      "text/plain": [
       "age               0\n",
       "workclass         0\n",
       "fnlwgt            0\n",
       "education         0\n",
       "education_num     0\n",
       "marital_status    0\n",
       "occupation        0\n",
       "relationship      0\n",
       "race              0\n",
       "sex               0\n",
       "capital_gain      0\n",
       "capital_loss      0\n",
       "hours_per_week    0\n",
       "native_country    0\n",
       "Income            0\n",
       "dtype: int64"
      ]
     },
     "execution_count": 128,
     "metadata": {},
     "output_type": "execute_result"
    }
   ],
   "source": [
    "#the head() shows that the dataset contains values coded as ?. So,encode ? as NaN values\n",
    "df[df == '?'] = np.nan\n",
    "\n",
    "#Display missing value\n",
    "df.isnull().sum()"
   ]
  },
  {
   "cell_type": "markdown",
   "id": "582de4d3",
   "metadata": {},
   "source": [
    "# Split dataset into independent (X) and dependent (Y) variable"
   ]
  },
  {
   "cell_type": "code",
   "execution_count": 129,
   "id": "b1ba7a40",
   "metadata": {},
   "outputs": [],
   "source": [
    "X = df.drop(['Income'], axis=1)\n",
    "\n",
    "y = df['Income']"
   ]
  },
  {
   "cell_type": "markdown",
   "id": "45038901",
   "metadata": {},
   "source": [
    "# Split data into training and testing dataset"
   ]
  },
  {
   "cell_type": "code",
   "execution_count": 130,
   "id": "4aeccbdb",
   "metadata": {},
   "outputs": [],
   "source": [
    "from sklearn.model_selection import train_test_split\n",
    "\n",
    "X_train, X_test, y_train, y_test = train_test_split(X, y, test_size = 0.3, random_state = 0)"
   ]
  },
  {
   "cell_type": "markdown",
   "id": "1de30d03",
   "metadata": {},
   "source": [
    "# Feature engineering"
   ]
  },
  {
   "cell_type": "code",
   "execution_count": 131,
   "id": "8a713d80",
   "metadata": {},
   "outputs": [],
   "source": [
    "from sklearn import preprocessing\n",
    "\n",
    "categorical = ['workclass','education', 'marital_status', 'occupation', 'relationship','race', 'sex','native_country']\n",
    "for feature in categorical:\n",
    "        le = preprocessing.LabelEncoder()\n",
    "        X_train[feature] = le.fit_transform(X_train[feature])\n",
    "        X_test[feature] = le.transform(X_test[feature])"
   ]
  },
  {
   "cell_type": "code",
   "execution_count": 132,
   "id": "0890a904",
   "metadata": {},
   "outputs": [],
   "source": [
    "#Using StandardScalar to normalise the dataset\n",
    "\n",
    "from sklearn.preprocessing import StandardScaler\n",
    "\n",
    "scaler = StandardScaler()\n",
    "\n",
    "X_train = pd.DataFrame(scaler.fit_transform(X_train), columns = X.columns)\n",
    "\n",
    "X_test = pd.DataFrame(scaler.transform(X_test), columns = X.columns)"
   ]
  },
  {
   "cell_type": "code",
   "execution_count": 133,
   "id": "f8d63011",
   "metadata": {},
   "outputs": [
    {
     "data": {
      "text/html": [
       "<div>\n",
       "<style scoped>\n",
       "    .dataframe tbody tr th:only-of-type {\n",
       "        vertical-align: middle;\n",
       "    }\n",
       "\n",
       "    .dataframe tbody tr th {\n",
       "        vertical-align: top;\n",
       "    }\n",
       "\n",
       "    .dataframe thead th {\n",
       "        text-align: right;\n",
       "    }\n",
       "</style>\n",
       "<table border=\"1\" class=\"dataframe\">\n",
       "  <thead>\n",
       "    <tr style=\"text-align: right;\">\n",
       "      <th></th>\n",
       "      <th>age</th>\n",
       "      <th>workclass</th>\n",
       "      <th>fnlwgt</th>\n",
       "      <th>education</th>\n",
       "      <th>education_num</th>\n",
       "      <th>marital_status</th>\n",
       "      <th>occupation</th>\n",
       "      <th>relationship</th>\n",
       "      <th>race</th>\n",
       "      <th>sex</th>\n",
       "      <th>capital_gain</th>\n",
       "      <th>capital_loss</th>\n",
       "      <th>hours_per_week</th>\n",
       "      <th>native_country</th>\n",
       "    </tr>\n",
       "  </thead>\n",
       "  <tbody>\n",
       "    <tr>\n",
       "      <th>0</th>\n",
       "      <td>0.470399</td>\n",
       "      <td>0.091645</td>\n",
       "      <td>-0.174981</td>\n",
       "      <td>0.179166</td>\n",
       "      <td>-0.414963</td>\n",
       "      <td>-0.409687</td>\n",
       "      <td>-0.842289</td>\n",
       "      <td>-0.898445</td>\n",
       "      <td>0.396164</td>\n",
       "      <td>0.701715</td>\n",
       "      <td>0.826332</td>\n",
       "      <td>-0.216969</td>\n",
       "      <td>1.589744</td>\n",
       "      <td>0.290103</td>\n",
       "    </tr>\n",
       "    <tr>\n",
       "      <th>1</th>\n",
       "      <td>0.617346</td>\n",
       "      <td>2.157698</td>\n",
       "      <td>-0.763517</td>\n",
       "      <td>0.179166</td>\n",
       "      <td>-0.414963</td>\n",
       "      <td>-1.738219</td>\n",
       "      <td>-1.315337</td>\n",
       "      <td>1.591127</td>\n",
       "      <td>0.396164</td>\n",
       "      <td>-1.425079</td>\n",
       "      <td>0.098582</td>\n",
       "      <td>-0.216969</td>\n",
       "      <td>-0.200583</td>\n",
       "      <td>0.290103</td>\n",
       "    </tr>\n",
       "    <tr>\n",
       "      <th>2</th>\n",
       "      <td>0.690820</td>\n",
       "      <td>0.091645</td>\n",
       "      <td>-0.017034</td>\n",
       "      <td>1.216323</td>\n",
       "      <td>-0.025832</td>\n",
       "      <td>-0.409687</td>\n",
       "      <td>1.286425</td>\n",
       "      <td>-0.898445</td>\n",
       "      <td>0.396164</td>\n",
       "      <td>0.701715</td>\n",
       "      <td>-0.145156</td>\n",
       "      <td>-0.216969</td>\n",
       "      <td>0.775959</td>\n",
       "      <td>0.290103</td>\n",
       "    </tr>\n",
       "    <tr>\n",
       "      <th>3</th>\n",
       "      <td>-0.705178</td>\n",
       "      <td>0.091645</td>\n",
       "      <td>-0.415016</td>\n",
       "      <td>0.179166</td>\n",
       "      <td>-0.414963</td>\n",
       "      <td>0.918845</td>\n",
       "      <td>-0.842289</td>\n",
       "      <td>-0.276052</td>\n",
       "      <td>0.396164</td>\n",
       "      <td>0.701715</td>\n",
       "      <td>-0.145156</td>\n",
       "      <td>-0.216969</td>\n",
       "      <td>-0.037826</td>\n",
       "      <td>-3.019607</td>\n",
       "    </tr>\n",
       "    <tr>\n",
       "      <th>4</th>\n",
       "      <td>-1.146019</td>\n",
       "      <td>0.091645</td>\n",
       "      <td>0.130127</td>\n",
       "      <td>-1.376570</td>\n",
       "      <td>-2.360620</td>\n",
       "      <td>0.918845</td>\n",
       "      <td>-0.842289</td>\n",
       "      <td>-0.276052</td>\n",
       "      <td>0.396164</td>\n",
       "      <td>0.701715</td>\n",
       "      <td>-0.145156</td>\n",
       "      <td>-0.216969</td>\n",
       "      <td>-1.258503</td>\n",
       "      <td>-3.274200</td>\n",
       "    </tr>\n",
       "  </tbody>\n",
       "</table>\n",
       "</div>"
      ],
      "text/plain": [
       "        age  workclass    fnlwgt  education  education_num  marital_status  \\\n",
       "0  0.470399   0.091645 -0.174981   0.179166      -0.414963       -0.409687   \n",
       "1  0.617346   2.157698 -0.763517   0.179166      -0.414963       -1.738219   \n",
       "2  0.690820   0.091645 -0.017034   1.216323      -0.025832       -0.409687   \n",
       "3 -0.705178   0.091645 -0.415016   0.179166      -0.414963        0.918845   \n",
       "4 -1.146019   0.091645  0.130127  -1.376570      -2.360620        0.918845   \n",
       "\n",
       "   occupation  relationship      race       sex  capital_gain  capital_loss  \\\n",
       "0   -0.842289     -0.898445  0.396164  0.701715      0.826332     -0.216969   \n",
       "1   -1.315337      1.591127  0.396164 -1.425079      0.098582     -0.216969   \n",
       "2    1.286425     -0.898445  0.396164  0.701715     -0.145156     -0.216969   \n",
       "3   -0.842289     -0.276052  0.396164  0.701715     -0.145156     -0.216969   \n",
       "4   -0.842289     -0.276052  0.396164  0.701715     -0.145156     -0.216969   \n",
       "\n",
       "   hours_per_week  native_country  \n",
       "0        1.589744        0.290103  \n",
       "1       -0.200583        0.290103  \n",
       "2        0.775959        0.290103  \n",
       "3       -0.037826       -3.019607  \n",
       "4       -1.258503       -3.274200  "
      ]
     },
     "execution_count": 133,
     "metadata": {},
     "output_type": "execute_result"
    }
   ],
   "source": [
    "X_train.head()"
   ]
  },
  {
   "cell_type": "markdown",
   "id": "09986674",
   "metadata": {},
   "source": [
    "# Applying the Logistic Regression algorithm"
   ]
  },
  {
   "cell_type": "code",
   "execution_count": 134,
   "id": "cccb09d7",
   "metadata": {
    "scrolled": true
   },
   "outputs": [],
   "source": [
    "logreg = LogisticRegression()\n",
    "start_time = time.time()\n",
    "logreg.fit(X_train, y_train)\n",
    "end_time = time.time()\n",
    "\n",
    "Y_pred = logreg.predict(X_test)\n",
    "\n",
    "acc_lr = accuracy_score(y_test, Y_pred)\n",
    "precision_lr = precision_score(y_test, Y_pred, pos_label='>50K')\n",
    "recall_lr = recall_score(y_test, Y_pred, pos_label='>50K')\n",
    "elapsed_time_lr = end_time - start_time"
   ]
  },
  {
   "cell_type": "markdown",
   "id": "dc95b12c",
   "metadata": {},
   "source": [
    "# Applying the Decision Tree algorithm"
   ]
  },
  {
   "cell_type": "code",
   "execution_count": 135,
   "id": "d7b52ec8",
   "metadata": {},
   "outputs": [],
   "source": [
    "decision_tree = DecisionTreeClassifier()\n",
    "start_time = time.time()\n",
    "decision_tree.fit(X_train, y_train)\n",
    "end_time = time.time()\n",
    "\n",
    "Y_pred = decision_tree.predict(X_test)\n",
    "\n",
    "acc_dt = accuracy_score(y_test, Y_pred)\n",
    "precision_dt = precision_score(y_test, Y_pred, pos_label='>50K')\n",
    "recall_dt = recall_score(y_test, Y_pred, pos_label='>50K')\n",
    "elapsed_time_dt = end_time - start_time"
   ]
  },
  {
   "cell_type": "markdown",
   "id": "f83782c4",
   "metadata": {},
   "source": [
    "# Performance Comparasion Matrix"
   ]
  },
  {
   "cell_type": "code",
   "execution_count": 136,
   "id": "12ba2cd7",
   "metadata": {
    "scrolled": true
   },
   "outputs": [
    {
     "data": {
      "text/html": [
       "<div>\n",
       "<style scoped>\n",
       "    .dataframe tbody tr th:only-of-type {\n",
       "        vertical-align: middle;\n",
       "    }\n",
       "\n",
       "    .dataframe tbody tr th {\n",
       "        vertical-align: top;\n",
       "    }\n",
       "\n",
       "    .dataframe thead th {\n",
       "        text-align: right;\n",
       "    }\n",
       "</style>\n",
       "<table border=\"1\" class=\"dataframe\">\n",
       "  <thead>\n",
       "    <tr style=\"text-align: right;\">\n",
       "      <th></th>\n",
       "      <th>Model</th>\n",
       "      <th>Precision Score</th>\n",
       "      <th>Recall Score</th>\n",
       "      <th>Elapsed_time</th>\n",
       "    </tr>\n",
       "    <tr>\n",
       "      <th>Accuracy Score</th>\n",
       "      <th></th>\n",
       "      <th></th>\n",
       "      <th></th>\n",
       "      <th></th>\n",
       "    </tr>\n",
       "  </thead>\n",
       "  <tbody>\n",
       "    <tr>\n",
       "      <th>0.824342</th>\n",
       "      <td>Logistic Regression</td>\n",
       "      <td>0.709740</td>\n",
       "      <td>0.462743</td>\n",
       "      <td>0.081879</td>\n",
       "    </tr>\n",
       "    <tr>\n",
       "      <th>0.810318</th>\n",
       "      <td>Decision Tree</td>\n",
       "      <td>0.608621</td>\n",
       "      <td>0.603726</td>\n",
       "      <td>0.201998</td>\n",
       "    </tr>\n",
       "  </tbody>\n",
       "</table>\n",
       "</div>"
      ],
      "text/plain": [
       "                              Model  Precision Score  Recall Score  \\\n",
       "Accuracy Score                                                       \n",
       "0.824342        Logistic Regression         0.709740      0.462743   \n",
       "0.810318              Decision Tree         0.608621      0.603726   \n",
       "\n",
       "                Elapsed_time  \n",
       "Accuracy Score                \n",
       "0.824342            0.081879  \n",
       "0.810318            0.201998  "
      ]
     },
     "execution_count": 136,
     "metadata": {},
     "output_type": "execute_result"
    }
   ],
   "source": [
    "#Plotting the accuracy of the used algorithms to find the best fit\n",
    "\n",
    "results = pd.DataFrame({\n",
    "    'Model': ['Logistic Regression','Decision Tree'],\n",
    "    'Accuracy Score': [ acc_lr,acc_dt],\n",
    "    'Precision Score': [ precision_lr,precision_dt],\n",
    "    'Recall Score': [ recall_lr,recall_dt],\n",
    "    'Elapsed_time': [ elapsed_time_lr,elapsed_time_dt]})\n",
    "result_df = results.sort_values(by='Accuracy Score', ascending=False)\n",
    "result_df = result_df.set_index('Accuracy Score')\n",
    "result_df.head(2)"
   ]
  },
  {
   "cell_type": "markdown",
   "id": "78d3bbae",
   "metadata": {},
   "source": [
    "# Test if the performance difference (Practice)"
   ]
  },
  {
   "cell_type": "code",
   "execution_count": 139,
   "id": "e1e75908",
   "metadata": {
    "scrolled": true
   },
   "outputs": [
    {
     "name": "stdout",
     "output_type": "stream",
     "text": [
      "The performance difference between the two models is not statistically significant.\n"
     ]
    },
    {
     "name": "stderr",
     "output_type": "stream",
     "text": [
      "C:\\Users\\刘启涵\\AppData\\Local\\Temp\\ipykernel_18752\\4064726134.py:4: RuntimeWarning: Precision loss occurred in moment calculation due to catastrophic cancellation. This occurs when the data are nearly identical. Results may be unreliable.\n",
      "  t_stat, p_value = ttest_rel([acc_dt], [acc_lr])\n"
     ]
    }
   ],
   "source": [
    "from scipy.stats import ttest_rel\n",
    "\n",
    "# Perform a two-tailed paired t-test on the accuracy scores of the two models\n",
    "t_stat, p_value = ttest_rel([acc_dt], [acc_lr])\n",
    "\n",
    "# Print the results\n",
    "if p_value < 0.05:\n",
    "    print(\"The performance difference between the two models is statistically significant.\")\n",
    "else:\n",
    "    print(\"The performance difference between the two models is not statistically significant.\")"
   ]
  },
  {
   "cell_type": "raw",
   "id": "faaca24b",
   "metadata": {},
   "source": [
    "To understand warning message,This occurs when the data are nearly identical (since we use the same dataset),results may be unreliable.\n",
    "The method here is trying to practice what we learned in class 4!"
   ]
  }
 ],
 "metadata": {
  "kernelspec": {
   "display_name": "Python 3 (ipykernel)",
   "language": "python",
   "name": "python3"
  },
  "language_info": {
   "codemirror_mode": {
    "name": "ipython",
    "version": 3
   },
   "file_extension": ".py",
   "mimetype": "text/x-python",
   "name": "python",
   "nbconvert_exporter": "python",
   "pygments_lexer": "ipython3",
   "version": "3.9.13"
  }
 },
 "nbformat": 4,
 "nbformat_minor": 5
}
